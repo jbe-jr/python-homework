{
 "cells": [
  {
   "cell_type": "code",
   "execution_count": 1,
   "id": "fe872635-ae4d-40f8-9703-10ea1c62b20d",
   "metadata": {},
   "outputs": [],
   "source": [
    "#importing modules\n",
    "import os\n",
    "import csv"
   ]
  },
  {
   "cell_type": "code",
   "execution_count": 2,
   "id": "b401e7b6-f91a-496a-8d30-97a14c2705c6",
   "metadata": {},
   "outputs": [],
   "source": [
    "#Setting file path\n",
    "csvpath = os.path.join(\"..\", \"PyBank\", \"budget_data.csv\")"
   ]
  },
  {
   "cell_type": "code",
   "execution_count": 3,
   "id": "fd11d6df-eec6-41ec-adfe-232f342e3564",
   "metadata": {},
   "outputs": [],
   "source": [
    "#naming/setting variable names\n",
    "total_months = 0\n",
    "total_funds = 0\n",
    "pnl_change = 0\n",
    "previous_fund = 0\n",
    "total_funds_average = 0\n",
    "funds_per_month = []\n",
    "pnl_changes = []\n",
    "month_change = []\n",
    "maximum_profit = [\"\", 0]\n",
    "maximum_loss = [\"\", 10000000]"
   ]
  },
  {
   "cell_type": "code",
   "execution_count": 4,
   "id": "63401991-9f87-475e-8de4-c96dd4b649fa",
   "metadata": {},
   "outputs": [],
   "source": [
    "#opening csv file\n",
    "with open(csvpath, newline=\"\") as csvfile:\n",
    "    csvreader = csv.DictReader(csvfile, delimiter=\",\")\n",
    "\n",
    "    \n",
    "    #iterating through files by row\n",
    "    for row in csvreader:\n",
    "            \n",
    "        #calculating total number of months\n",
    "        total_months += 1\n",
    "    \n",
    "        #calculating total funds over entire period\n",
    "        total_funds += int(row[\"Profit/Losses\"])\n",
    "        \n",
    "        #setting up calculatinon for average change in profit and loss over entire date range\n",
    "        pnl_change = float(row[\"Profit/Losses\"]) - previous_fund\n",
    "        previous_fund = float(row[\"Profit/Losses\"])\n",
    "        pnl_changes = pnl_changes + [pnl_change]\n",
    "        month_change = [month_change] + [row[\"Date\"]]"
   ]
  },
  {
   "cell_type": "code",
   "execution_count": 5,
   "id": "83420dcb-0f11-4b79-a9b6-64719b8f18ba",
   "metadata": {},
   "outputs": [],
   "source": [
    "        #calculating greatest monthly increase in profits over entire date range\n",
    "        if pnl_change > maximum_profit[1]:\n",
    "            maximum_profit[1] = pnl_change\n",
    "            maximum_profit[0] = row['Date']\n",
    "\n",
    "        #calculating greatest monthly increase in profits over entire date range\n",
    "        if pnl_change < maximum_loss[1]:\n",
    "            maximum_loss[1] = pnl_change\n",
    "            maximum_loss[0] = row['Date']"
   ]
  },
  {
   "cell_type": "code",
   "execution_count": 6,
   "id": "12e0c320-ddc0-42d7-b5f5-a8d729b28f2a",
   "metadata": {},
   "outputs": [],
   "source": [
    "#calculating figures for average change in profit over date range\n",
    "total_funds_average = sum(pnl_changes)/len(pnl_changes)"
   ]
  },
  {
   "cell_type": "code",
   "execution_count": 7,
   "id": "457f9d88-1236-4af5-872b-161d8c5f9be5",
   "metadata": {},
   "outputs": [],
   "source": [
    "#setting output file name\n",
    "text_output = \"output.txt\""
   ]
  },
  {
   "cell_type": "code",
   "execution_count": 8,
   "id": "0444c943-f1f0-4ef6-80de-301662a515a2",
   "metadata": {},
   "outputs": [
    {
     "name": "stderr",
     "output_type": "stream",
     "text": [
      "<>:7: SyntaxWarning: 'str' object is not callable; perhaps you missed a comma?\n",
      "<>:8: SyntaxWarning: 'str' object is not callable; perhaps you missed a comma?\n",
      "<>:7: SyntaxWarning: 'str' object is not callable; perhaps you missed a comma?\n",
      "<>:8: SyntaxWarning: 'str' object is not callable; perhaps you missed a comma?\n",
      "<ipython-input-8-58806b26c4f9>:7: SyntaxWarning: 'str' object is not callable; perhaps you missed a comma?\n",
      "  file.write(\"Maximum Profit Month/Amount: %s ($%s)\\n\" (maximum_profit[0], maximum_profit[1]))\n",
      "<ipython-input-8-58806b26c4f9>:8: SyntaxWarning: 'str' object is not callable; perhaps you missed a comma?\n",
      "  file.write(\"Worst Monthly Loss/Amount: %s ($%s)\\n\" (maximum_loss[0], maximum_loss[1]))\n"
     ]
    },
    {
     "ename": "TypeError",
     "evalue": "'str' object is not callable",
     "output_type": "error",
     "traceback": [
      "\u001b[1;31m---------------------------------------------------------------------------\u001b[0m",
      "\u001b[1;31mTypeError\u001b[0m                                 Traceback (most recent call last)",
      "\u001b[1;32m<ipython-input-8-58806b26c4f9>\u001b[0m in \u001b[0;36m<module>\u001b[1;34m\u001b[0m\n\u001b[0;32m      5\u001b[0m     \u001b[0mfile\u001b[0m\u001b[1;33m.\u001b[0m\u001b[0mwrite\u001b[0m\u001b[1;33m(\u001b[0m\u001b[1;34m\"Total Profit/Loss: $%d\\n\"\u001b[0m \u001b[1;33m%\u001b[0m \u001b[0mtotal_funds\u001b[0m\u001b[1;33m)\u001b[0m\u001b[1;33m\u001b[0m\u001b[1;33m\u001b[0m\u001b[0m\n\u001b[0;32m      6\u001b[0m     \u001b[0mfile\u001b[0m\u001b[1;33m.\u001b[0m\u001b[0mwrite\u001b[0m\u001b[1;33m(\u001b[0m\u001b[1;34m\"PNL Average Change $%d\\n\"\u001b[0m \u001b[1;33m%\u001b[0m \u001b[0mtotal_funds_average\u001b[0m\u001b[1;33m)\u001b[0m\u001b[1;33m\u001b[0m\u001b[1;33m\u001b[0m\u001b[0m\n\u001b[1;32m----> 7\u001b[1;33m     \u001b[0mfile\u001b[0m\u001b[1;33m.\u001b[0m\u001b[0mwrite\u001b[0m\u001b[1;33m(\u001b[0m\u001b[1;34m\"Maximum Profit Month/Amount: %s ($%s)\\n\"\u001b[0m \u001b[1;33m(\u001b[0m\u001b[0mmaximum_profit\u001b[0m\u001b[1;33m[\u001b[0m\u001b[1;36m0\u001b[0m\u001b[1;33m]\u001b[0m\u001b[1;33m,\u001b[0m \u001b[0mmaximum_profit\u001b[0m\u001b[1;33m[\u001b[0m\u001b[1;36m1\u001b[0m\u001b[1;33m]\u001b[0m\u001b[1;33m)\u001b[0m\u001b[1;33m)\u001b[0m\u001b[1;33m\u001b[0m\u001b[1;33m\u001b[0m\u001b[0m\n\u001b[0m\u001b[0;32m      8\u001b[0m     \u001b[0mfile\u001b[0m\u001b[1;33m.\u001b[0m\u001b[0mwrite\u001b[0m\u001b[1;33m(\u001b[0m\u001b[1;34m\"Worst Monthly Loss/Amount: %s ($%s)\\n\"\u001b[0m \u001b[1;33m(\u001b[0m\u001b[0mmaximum_loss\u001b[0m\u001b[1;33m[\u001b[0m\u001b[1;36m0\u001b[0m\u001b[1;33m]\u001b[0m\u001b[1;33m,\u001b[0m \u001b[0mmaximum_loss\u001b[0m\u001b[1;33m[\u001b[0m\u001b[1;36m1\u001b[0m\u001b[1;33m]\u001b[0m\u001b[1;33m)\u001b[0m\u001b[1;33m)\u001b[0m\u001b[1;33m\u001b[0m\u001b[1;33m\u001b[0m\u001b[0m\n",
      "\u001b[1;31mTypeError\u001b[0m: 'str' object is not callable"
     ]
    }
   ],
   "source": [
    "#exporting output to txt file\n",
    "with open(text_output, 'w') as file:\n",
    "    file.write(\"Financial Analysis\\n\")\n",
    "    file.write(\"_________\\n\")\n",
    "    file.write(\"Total Months: %d\\n\" % total_months)\n",
    "    file.write(\"Total Profit/Loss: $%d\\n\" % total_funds)\n",
    "    file.write(\"PNL Average Change $%d\\n\" % total_funds_average)\n",
    "    file.write(\"Maximum Profit Month/Amount: %s ($%s)\\n\" (maximum_profit[0], maximum_profit[1]))\n",
    "    file.write(\"Worst Monthly Loss/Amount: %s ($%s)\\n\" (maximum_loss[0], maximum_loss[1]))"
   ]
  },
  {
   "cell_type": "code",
   "execution_count": null,
   "id": "e8d46cb2-fdc8-4138-bb9c-79d19fa64788",
   "metadata": {},
   "outputs": [],
   "source": []
  }
 ],
 "metadata": {
  "kernelspec": {
   "display_name": "Python 3",
   "language": "python",
   "name": "python3"
  },
  "language_info": {
   "codemirror_mode": {
    "name": "ipython",
    "version": 3
   },
   "file_extension": ".py",
   "mimetype": "text/x-python",
   "name": "python",
   "nbconvert_exporter": "python",
   "pygments_lexer": "ipython3",
   "version": "3.8.8"
  }
 },
 "nbformat": 4,
 "nbformat_minor": 5
}
